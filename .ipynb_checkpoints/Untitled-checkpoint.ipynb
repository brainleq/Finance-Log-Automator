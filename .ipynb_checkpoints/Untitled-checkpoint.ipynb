{
 "cells": [
  {
   "cell_type": "code",
   "execution_count": 9,
   "metadata": {},
   "outputs": [
    {
     "name": "stdout",
     "output_type": "stream",
     "text": [
      "homepage arrived\n"
     ]
    }
   ],
   "source": [
    "from selenium.webdriver.support import expected_conditions as EC\n",
    "from selenium.webdriver.common.by import By\n",
    "from selenium.webdriver.support.ui import WebDriverWait\n",
    "from selenium import webdriver\n",
    "import time\n",
    "\n",
    "# urls of interest\n",
    "POST_LOGIN_URL = 'https://venmo.com/groups/sign-in'\n",
    "REQUEST_URL = 'https://venmo.com/TXOmegas'\n",
    "\n",
    "# chromedriver initialization\n",
    "chromedriver_path = \"D:\\Brian\\Documents\\chromedriver\"\n",
    "driver = webdriver.Chrome(chromedriver_path)\n",
    "\n",
    "# initial login post and credentials\n",
    "driver.get(POST_LOGIN_URL)\n",
    "username = driver.find_element_by_name(\"username\")\n",
    "password = driver.find_element_by_name(\"password\")\n",
    "username.send_keys(\"\") # username here\n",
    "password.send_keys(\"\") # password here\n",
    "driver.find_element_by_css_selector(\".button\").click()\n",
    "\n",
    "# 60 seconds for 2FA, signal on homepage arrival\n",
    "home_page = \"https://venmo.com/\"\n",
    "success = False\n",
    "try:\n",
    "    element = WebDriverWait(driver, 60).until(EC.url_to_be(home_page))\n",
    "    print(\"homepage arrived\")\n",
    "    driver.get(REQUEST_URL)\n",
    "    if driver.current_url == REQUEST_URL:\n",
    "        success = True\n",
    "except:\n",
    "    print(\"homepage error\")\n",
    "    driver.quit()\n"
   ]
  },
  {
   "cell_type": "code",
   "execution_count": 10,
   "metadata": {},
   "outputs": [],
   "source": [
    "def print_trans_list(trans_list):\n",
    "    for j in range (len(trans_list)):\n",
    "        print(str(j) + \": \" + trans_list[j].text)"
   ]
  },
  {
   "cell_type": "code",
   "execution_count": 11,
   "metadata": {},
   "outputs": [],
   "source": [
    "if success:\n",
    "    feed_xpath = \"/html/body/div[2]/div[8]/div[1]/div[4]/div[2]\"\n",
    "    trans_list = []\n",
    "    # allow elements to load\n",
    "    time.sleep(2)\n",
    "    for i in range (2, 17):\n",
    "        trans_xpath = \"/div[\" + str(i) + \"]\"\n",
    "        trans_list.append(driver.find_element_by_xpath(feed_xpath + trans_xpath))\n",
    "    "
   ]
  },
  {
   "cell_type": "code",
   "execution_count": 12,
   "metadata": {},
   "outputs": [
    {
     "name": "stdout",
     "output_type": "stream",
     "text": [
      "['Chandler Yoon', 'Brian LeQuang', 'Brian Nguyen', 'Brian Nguyen', 'Stephen Du', 'Jeremy Tajonera', 'Matthew Koh', 'Eric Dulin', 'Andrew Vo', 'John Bao', 'Brandon Nailling', 'Josh Tsai', 'Matthew Koh', 'Andrew Kim', 'Chris Chung']\n",
      "['for (1) Formal Shirt', 'Transfer', 'for (2) Formal Shirts', 'for (2) DD Shirts', 'for (2) Formal Shirts', 'o 👕', 'Lock-in', '25*11 new guys', '🤶🏼🌲', 'for (2) Formal Shirts', 'for (1) Formal Shirt', 'for (1) Formal Shirt', 'for the plebs', 'A&M present gifts', 'Sp19 due pt 3']\n",
      "['18.00', '9.07', '36.00', '30.00', '36.00', '17.00', '-98.00', '-275.00', '+150.00', '36.00', '18.00', '18.00', '-440.00', '-58.84', '150.00']\n"
     ]
    }
   ],
   "source": [
    "account_name = \"UT Omega Phi Gamma\"\n",
    "name_list = []\n",
    "desc_list = []\n",
    "dollar_list = []\n",
    "for i in range (len(trans_list)):\n",
    "    tokenize = trans_list[i].text.split(\"\\n\")\n",
    "    token = \" charged \"\n",
    "    # get the person's name\n",
    "    if \"paid\" in tokenize[0]:\n",
    "        token = \" paid \"\n",
    "    personel = tokenize[0].split(token, 1)\n",
    "    name = personel[0]\n",
    "    if name == account_name:\n",
    "        name = personel[1]\n",
    "    # get the description\n",
    "    desc = tokenize[1]\n",
    "    # get the dollar amount\n",
    "    dollar = tokenize[-1]\n",
    "    dollar_int = \"\"\n",
    "    if \"+\" in tokenize[3]:\n",
    "        dollar_int = dollar[2:len(dollar)]\n",
    "    else:\n",
    "        dollar_int = dollar.replace(\"$\", \"\")\n",
    "    name_list.append(name)\n",
    "    desc_list.append(desc)\n",
    "    dollar_list.append(dollar_int)\n",
    "print(name_list)\n",
    "print(desc_list)\n",
    "print(dollar_list)"
   ]
  }
 ],
 "metadata": {
  "kernelspec": {
   "display_name": "Python 3",
   "language": "python",
   "name": "python3"
  },
  "language_info": {
   "codemirror_mode": {
    "name": "ipython",
    "version": 3
   },
   "file_extension": ".py",
   "mimetype": "text/x-python",
   "name": "python",
   "nbconvert_exporter": "python",
   "pygments_lexer": "ipython3",
   "version": "3.6.8"
  }
 },
 "nbformat": 4,
 "nbformat_minor": 2
}
